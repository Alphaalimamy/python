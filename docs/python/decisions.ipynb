{
 "cells": [
  {
   "cell_type": "markdown",
   "source": [],
   "metadata": {
    "collapsed": false
   },
   "id": "f3d7c292d6ad6b70"
  },
  {
   "cell_type": "markdown",
   "source": [
    "## Decision Structures and Boolean Logic\n",
    "\n",
    "### TOPICS\n",
    "\n",
    "- The if Statement\n",
    "- The if-else Statement\n",
    "- Comparing Strings\n",
    "- Nested Decision Structures and the if-elif-else Statement\n",
    "- Logical Operators\n",
    "- Boolean Variables\n",
    "\n",
    "\n",
    "### The if Statement\n",
    "The `if statement` is used to create a decision structure, which allows a program to have more than one path of execution. The if statement causes one or more statements to execute only when a Boolean expression is true.\n",
    "\n",
    "A  `control structure` is a logical design that controls the order in which a set of statements execute. So far in this book, we have used only the simplest type of control structure: the sequence structure.\n",
    " \n",
    "A `sequence structure` is a set of statements that execute in the order in which they appear. For example, the following code is a sequence structure because the statements execute from top to bottom:"
   ],
   "metadata": {
    "collapsed": false
   },
   "id": "75e9e8d74a5fb84f"
  },
  {
   "cell_type": "code",
   "execution_count": 2,
   "outputs": [
    {
     "name": "stdout",
     "output_type": "stream",
     "text": [
      "Here is the data you entered:\n",
      "Name: aLPHA\n",
      "Age: 12\n"
     ]
    }
   ],
   "source": [
    "name = input('What is your name? ')\n",
    "age = int(input('What is your age? '))\n",
    "print('Here is the data you entered:')\n",
    "print('Name:', name)\n",
    "print('Age:', age)"
   ],
   "metadata": {
    "collapsed": false,
    "ExecuteTime": {
     "end_time": "2024-06-29T17:47:15.480611800Z",
     "start_time": "2024-06-29T17:47:10.033178500Z"
    }
   },
   "id": "107ae92887c51490"
  },
  {
   "cell_type": "markdown",
   "source": [
    "![](./img/if.png)\n",
    "- In the flowchart, the diamond symbol indicates some condition that must be tested. \n",
    "- In this case, we are determining whether the condition Cold outside is true or false. \n",
    "- If this condition is true, the action Wear a coat is performed. If the condition is false, the action is skipped.\n",
    " - The action is conditionally executed because it is performed only when a certain condition is true."
   ],
   "metadata": {
    "collapsed": false
   },
   "id": "aa37b8af1b62f79d"
  },
  {
   "cell_type": "markdown",
   "source": [
    "- In Python, we use the if statement to write a single alternative decision structure. Here is the general format of the if statement:\n",
    "    ``` \n",
    "        if condition:\n",
    "            statement\n",
    "            statement\n",
    "            etc.\n",
    "  ```\n",
    "  ![](./img/if1.png)\n",
    "- For simplicity, we will refer to the first line as the if clause. The if clause begins with the word if, followed by a condition, which is an expression that will be evaluated as either true or false. A colon appears after the condition. Beginning at the next line is a block of statements.\n",
    " - A `block ` is simply a set of statements that belong together as a group. Notice in the general format that all of the statements in the block are indented.\n",
    "  - This indentation is required because the Python interpreter uses it to tell where the block begins and ends.\n",
    "- When the if statement executes, the condition is tested. If the condition is true, the statements that appear in the block following the if clause are executed. \n",
    "- If the condition is false, the statements in the block are skipped."
   ],
   "metadata": {
    "collapsed": false
   },
   "id": "a763832eaebbb641"
  },
  {
   "cell_type": "markdown",
   "source": [
    "## Boolean Expressions and Relational Operators\n",
    "\n",
    "- The expressions that are tested by the if statement are called Boolean expressions, named in honor of the English mathematician George Boole\n",
    "- A relational operator determines whether a specific relationship exists between two values. For example, the greater than operator (>) determines whether one value is greater than another. \n",
    "- The equal to operator (==) determines whether two values are equal.\n"
   ],
   "metadata": {
    "collapsed": false
   },
   "id": "ea9a6367a7dfa52c"
  },
  {
   "cell_type": "markdown",
   "source": [
    "| Operator | Meaning                  |\n",
    "|----------|--------------------------|\n",
    "| >        | Greater than             |\n",
    "| <        | Less than                |\n",
    "| >=       | Greater than or equal to |\n",
    "| <=       | Less than or equal to    |\n",
    "| ==       | Equal to                 |\n",
    "| !=       | Not equal to             |\n"
   ],
   "metadata": {
    "collapsed": false
   },
   "id": "70889c5d358b58b4"
  },
  {
   "cell_type": "markdown",
   "source": [
    "| Expression | Meaning                      |\n",
    "|------------|------------------------------|\n",
    "| x > y      | Is x greater than y?         |\n",
    "| x < y      | Is x less than y?            |\n",
    "| x >= y     | Is x greater than or equal to y? |\n",
    "| x <= y     | Is x less than or equal to y?    |\n",
    "| x == y     | Is x equal to y?             |\n",
    "| x != y     | Is x not equal to y?         |\n"
   ],
   "metadata": {
    "collapsed": false
   },
   "id": "e01a21d43abd347b"
  },
  {
   "cell_type": "code",
   "execution_count": 4,
   "outputs": [],
   "source": [
    "sales = int(input(f'Enter sales amount: '))\n",
    "if sales > 50000:\n",
    "    bonus = 500.0"
   ],
   "metadata": {
    "collapsed": false,
    "ExecuteTime": {
     "end_time": "2024-06-29T17:59:36.325837900Z",
     "start_time": "2024-06-29T17:59:33.750458100Z"
    }
   },
   "id": "4b6ffb11ec7103d2"
  },
  {
   "cell_type": "markdown",
   "source": [
    "\n",
    "- This statement uses the `>` operator to determine whether sales is greater than 50,000. \n",
    "- If the expression `sales > 50000` is true, the variable bonus is assigned `500.0`. \n",
    "- If the expression is false, however, the assignment statement is skipped. Figure below shows a flowchart for this section of code.\n",
    "![](./img/if2.png)\n",
    "- The following example conditionally executes a block containing three statements. Figure below shows a flowchart for this section of code:\n",
    "![](./img/if3.png)"
   ],
   "metadata": {
    "collapsed": false
   },
   "id": "de6d62c06c315ba7"
  },
  {
   "cell_type": "code",
   "execution_count": null,
   "outputs": [],
   "source": [
    "if sales > 50000:\n",
    "    bonus = 500.0\n",
    "    commission_rate = 0.12\n",
    "    print('You met your sales quota!')"
   ],
   "metadata": {
    "collapsed": false
   },
   "id": "437af479ce3b50c4"
  },
  {
   "cell_type": "markdown",
   "source": [
    "The following code uses the `== ` operator to determine whether two values are equal. The\n",
    "expression `balance == 0` will be true if the balance variable is assigned 0. Otherwise, the expression will be false."
   ],
   "metadata": {
    "collapsed": false
   },
   "id": "fbbbb302fd9c9f7a"
  },
  {
   "cell_type": "code",
   "execution_count": null,
   "outputs": [],
   "source": [
    "balance = 10\n",
    "if balance == 0:\n",
    "    # Statements appearing here will\n",
    "    # be executed only if balance is\n",
    "    # equal to 0.\n"
   ],
   "metadata": {
    "collapsed": false
   },
   "id": "b047b227c9ce342c"
  },
  {
   "cell_type": "markdown",
   "source": [
    "The following code uses the != operator to determine whether two values are not equal. The expression choice != 5 will be true if the choice variable does not reference the value 5. Otherwise, the expression will be false."
   ],
   "metadata": {
    "collapsed": false
   },
   "id": "3bd7fea9141a7a81"
  },
  {
   "cell_type": "code",
   "execution_count": 5,
   "outputs": [
    {
     "name": "stdout",
     "output_type": "stream",
     "text": [
      "I love Rugiatu\n"
     ]
    }
   ],
   "source": [
    "choice = int(input('Enter your choice: '))\n",
    "if choice != 5:\n",
    "    print('I love Rugiatu')"
   ],
   "metadata": {
    "collapsed": false,
    "ExecuteTime": {
     "end_time": "2024-06-29T18:05:59.930827700Z",
     "start_time": "2024-06-29T18:05:58.068585Z"
    }
   },
   "id": "8987f6c0d1ba2f4c"
  },
  {
   "cell_type": "markdown",
   "source": [
    "## In the Spotlight:\n",
    "### Using the if Statement\n",
    "Alpha Leigh teaches a science class and his students are required to take three tests. He wants to write a program that his students can use to calculate their average test score. He  also wants the program to congratulate the student enthusiastically if the average is greater than 95. Here is the algorithm in pseudocode:\n",
    "\n",
    "- Get the first test score\n",
    "- Get the second test score\n",
    "- Get the third test score\n",
    "- Calculate the average\n",
    "- Display the average\n",
    "- If the average is greater than 95:\n",
    "    - Congratulate the user"
   ],
   "metadata": {
    "collapsed": false
   },
   "id": "1bf837b7589aad8b"
  },
  {
   "cell_type": "markdown",
   "source": [
    "# This program gets three test scores and displays\n",
    "# their average. It congratulates the user if the\n",
    "# average is a high score.\n",
    "\n",
    "# The HIGH_SCORE named constant holds the value that is\n",
    "# considered a high score.\n",
    "\n",
    "HIGH_SCORE = 95\n",
    "\n",
    "# Get the three test scores\n",
    "\n",
    "test1 = int(input('Enter the score for test 1: ' ))\n",
    "test2 = int(input('Enter the score for test 2: ' ))\n",
    "test3 = int(input('Enter the score for test 3: ' ))\n",
    "\n",
    "# Calculate the average test score.\n",
    "average = (test1 + test2 + test3) / 3\n",
    "\n",
    "# Print the average.\n",
    "print(f'The average score is {average}.')\n",
    "\n",
    "# If the average is a high score,\n",
    "# congratulate the user.\n",
    "if average >= HIGH_SCORE:\n",
    "    print('Congratulations!')\n",
    "    print('That is a great average!')"
   ],
   "metadata": {
    "collapsed": false
   },
   "id": "b2fafc24a17a9421"
  },
  {
   "cell_type": "markdown",
   "source": [
    "## Exercises\n",
    "1. What is a control structure?\n",
    "2. What is a decision structure?\n",
    "3. What is a single alternative decision structure?\n",
    "4. What is a Boolean expression?\n",
    "5. What types of relationships between values can you test with relational operators?\n",
    "6. Write an if statement that assigns `0 to x if y is equal to 20`.\n",
    "7. Write an if statement that assigns `0.2` to commissionRate if sales is greater than or equal to 10000."
   ],
   "metadata": {
    "collapsed": false
   },
   "id": "d5d7e1938027fe4"
  },
  {
   "cell_type": "markdown",
   "source": [
    "## The if-else Statement\n",
    "An if-else statement will execute one block of statements if its condition is true, or another block if its condition is false.\n",
    "\n",
    "## Dual Alternative\n",
    "- Dual alternative decision structure, two possible paths of execution—one path is taken if a condition\n",
    "is true, and the other path is taken if the condition is false\n",
    "![](./img/if_else.png)\n"
   ],
   "metadata": {
    "collapsed": false
   },
   "id": "a41f5c9812f9e8e4"
  },
  {
   "cell_type": "markdown",
   "source": [
    "In code, we write a dual alternative decision structure as an if-else statement. Here is the\n",
    "general format of the if-else statement:\n",
    "\n",
    "    if condition:\n",
    "        statement\n",
    "        statement\n",
    "        etc.\n",
    "    else:\n",
    "        statement\n",
    "        statement\n",
    "        etc."
   ],
   "metadata": {
    "collapsed": false
   },
   "id": "ca6226c05f955929"
  },
  {
   "cell_type": "markdown",
   "source": [
    "### In the Spotlight:\n",
    "### Using the if-else Statement\n",
    "Alpha owns an auto repair business and has several employees. If any employee works over 40 hours in a week, he pays them 1.5 times their regular hourly pay rate for all hours over 40. He has asked you to design a simple payroll program that calculates an employee’s gross pay, including any overtime wages. You design the following algorithm:\n",
    "\n",
    "- Get the number of hours worked.\n",
    "- Get the hourly pay rate.\n",
    "- If the employee worked more than 40 hours:\n",
    "    Calculate and display the gross pay with overtime.\n",
    "- Else:\n",
    "    Calculate and display the gross pay as usual.\n"
   ],
   "metadata": {
    "collapsed": false
   },
   "id": "c058ab041073079d"
  },
  {
   "cell_type": "code",
   "execution_count": null,
   "outputs": [],
   "source": [
    "# Named constants to represent the base hours and\n",
    "# the overtime multiplier.\n",
    "BASE_HOURS = 40 # Base hours per week\n",
    "OT_MULTIPLIER = 1.5 # Overtime multiplier\n",
    "\n",
    "# Get the hours worked and the hourly pay rate.\n",
    "hours = float(input('Enter the number of hours worked: '))\n",
    "pay_rate = float(input('Enter the hourly pay rate: '))\n",
    "\n",
    "# Calculate and display the gross pay.\n",
    "if hours > BASE_HOURS:\n",
    "    # Calculate the gross pay with overtime.\n",
    "    # First, get the number of overtime hours worked.\n",
    "    overtime_hours = hours - BASE_HOURS\n",
    "    \n",
    "    # Calculate the amount of overtime pay.\n",
    "    overtime_pay = overtime_hours * pay_rate * OT_MULTIPLIER\n",
    "    \n",
    "    # Calculate the gross pay.\n",
    "    gross_pay = BASE_HOURS * pay_rate + overtime_pay\n",
    "\n",
    "else:\n",
    "    # Calculate the gross pay without overtime.\n",
    "    gross_pay = hours * pay_rate\n",
    "    \n",
    "    # Display the gross pay.\n",
    "    print(f'The gross pay is ${gross_pay:,.2f}.')"
   ],
   "metadata": {
    "collapsed": false
   },
   "id": "89a828036724d3ef"
  },
  {
   "cell_type": "markdown",
   "source": [
    "## Exercises\n",
    "1. How does a dual alternative decision structure work?\n",
    "2. What statement do you use in Python to write a dual alternative decision structure?\n",
    "3. When you write an if-else statement, under what circumstances do the statements that appear after the else clause execute?"
   ],
   "metadata": {
    "collapsed": false
   },
   "id": "6582ab12f5e81c91"
  },
  {
   "cell_type": "markdown",
   "source": [
    "### Comparing Strings\n",
    "#### CONCEPT: Python allows you to compare strings. This allows you to create decision structures that test the value of a string."
   ],
   "metadata": {
    "collapsed": false
   },
   "id": "eaeebdf24270a8af"
  },
  {
   "cell_type": "code",
   "execution_count": null,
   "outputs": [],
   "source": [
    "name1 = 'Alpha'\n",
    "name2 = 'Rugiatu'\n",
    "if name1 == name2:\n",
    "    print('The names are the same.')\n",
    "else:\n",
    "    print('The names are NOT the same.')"
   ],
   "metadata": {
    "collapsed": false
   },
   "id": "616614295290a646"
  },
  {
   "cell_type": "markdown",
   "source": [
    "The `==` operator compares name1 and name2 to determine whether they are equal. Because the strings 'Mary' and 'Mark' are not equal, the else clause will display the   message 'The names are NOT the same."
   ],
   "metadata": {
    "collapsed": false
   },
   "id": "e51e9bc88def0642"
  },
  {
   "cell_type": "code",
   "execution_count": 6,
   "outputs": [
    {
     "name": "stdout",
     "output_type": "stream",
     "text": [
      "This is the wrong time for October fest!\n"
     ]
    }
   ],
   "source": [
    "month = \"July\"\n",
    "if month != 'October': \n",
    "    print('This is the wrong time for October fest!')"
   ],
   "metadata": {
    "collapsed": false,
    "ExecuteTime": {
     "end_time": "2024-06-29T18:20:05.780707500Z",
     "start_time": "2024-06-29T18:20:05.748531900Z"
    }
   },
   "id": "8904499fe2e4725"
  },
  {
   "cell_type": "code",
   "execution_count": 7,
   "outputs": [
    {
     "name": "stdout",
     "output_type": "stream",
     "text": [
      "Sorry, that is the wrong password.\n"
     ]
    }
   ],
   "source": [
    "# This program compares two strings.\n",
    "# Get a password from the user.\n",
    "password = input('Enter the password: ')\n",
    "\n",
    "# Determine whether the correct password\n",
    "# was entered.\n",
    "if password == 'rugiatu':\n",
    "    print('Password accepted.')\n",
    "else:\n",
    "    print('Sorry, that is the wrong password.')"
   ],
   "metadata": {
    "collapsed": false,
    "ExecuteTime": {
     "end_time": "2024-06-29T18:20:38.811076700Z",
     "start_time": "2024-06-29T18:20:36.435715800Z"
    }
   },
   "id": "39b3d602531d2ceb"
  },
  {
   "cell_type": "markdown",
   "source": [],
   "metadata": {
    "collapsed": false
   },
   "id": "d5b8cfdd462b2627"
  },
  {
   "cell_type": "code",
   "execution_count": null,
   "outputs": [],
   "source": [
    "# This program compares strings with the < operator.\n",
    "# Get two names from the user.\n",
    "name1 = input('Enter a name (last name first): ')\n",
    "name2 = input('Enter another name (last name first): ')\n",
    "\n",
    "# Display the names in alphabetical order.\n",
    "print('Here are the names, listed alphabetically.')\n",
    "\n",
    "if name1 < name2:\n",
    "    print(name1)\n",
    "    print(name2)\n",
    "else:\n",
    "    print(name2)\n",
    "    print(name1)"
   ],
   "metadata": {
    "collapsed": false
   },
   "id": "94df201a4b50de4c"
  },
  {
   "cell_type": "markdown",
   "source": [
    "1. What would the following code display?\n",
    "    if 'z' < 'a':\n",
    "        print('z is less than a.')\n",
    "    else:\n",
    "        print('z is not less than a.')\n",
    "2. What would the following code display?\n",
    "    s1 = 'Mayakie'\n",
    "    s2 = 'Mambolo'\n",
    "    \n",
    "    if s1 > s2:\n",
    "        print(s2)\n",
    "        print(s1)\n",
    "    else:\n",
    "        print(s1)\n",
    "        print(s2)"
   ],
   "metadata": {
    "collapsed": false
   },
   "id": "c7df67b93366ff10"
  },
  {
   "cell_type": "markdown",
   "source": [
    "### Nested Decision Structures and the if-elif-else Statement\n",
    "CONCEPT: To test more than one condition, a decision structure can be nested inside another decision structure.\n",
    "\n",
    "![](./img/nested_if.png)\n",
    "If we follow the flow of execution, we see that the condition salary >= 30000 is tested. If this condition is false, there is no need to perform further tests; we know the customer does not qualify for the loan. If the condition is true, however, we need to test the second condition. This is done with a nested decision structure that tests the condition years_on_job `>= 2`. If this condition is true, then the customer qualifies for the loan. If this condition is false, then the customer does not qualify"
   ],
   "metadata": {
    "collapsed": false
   },
   "id": "ebc0aee67bd344e3"
  },
  {
   "cell_type": "code",
   "execution_count": null,
   "outputs": [],
   "source": [
    "# This program determines whether a bank customer\n",
    "# qualifies for a loan.\n",
    "\n",
    "MIN_SALARY = 30000.0 # The minimum annual salary\n",
    "MIN_YEARS = 2 # The minimum years on the job\n",
    "\n",
    "# Get the customer's annual salary.\n",
    "salary = float(input('Enter your annual salary: '))\n",
    "# Get the number of years on the current job.\n",
    "years_on_job = int(input('Enter the number of ' + 'years employed: '))\n",
    "\n",
    "# Determine whether the customer qualifies.\n",
    "if salary >= MIN_SALARY:\n",
    "    if years_on_job >= MIN_YEARS:\n",
    "        print('You qualify for the loan.')\n",
    "    else:\n",
    "        print(f'You must have been employed for at least {MIN_YEARS} years to qualify.')\n",
    "else:\n",
    "    print(f'You must earn at least Le {MIN_SALARY:,.2f} per year to qualify.')"
   ],
   "metadata": {
    "collapsed": false
   },
   "id": "2749c47a81b5295e"
  },
  {
   "cell_type": "markdown",
   "source": [
    "### Logical Operators\n",
    "CONCEPT: The logical and operator and the logical or operator allow you to connect multiple Boolean expressions to create a compound expression. The logical not operator reverses the truth of a Boolean expression.\n",
    "\n",
    "| Expression            | Meaning                                    |\n",
    "|-----------------------|--------------------------------------------|\n",
    "| x > y and a < b       | Is x greater than y AND is a less than b? |\n",
    "| x == y or x == z      | Is x equal to y OR is x equal to z?       |\n",
    "| not (x > y)           | Is the expression x > y NOT true?         |\n",
    "\n",
    "\n",
    "## Compound Boolean expressions using logical operators\n",
    "\n",
    "\n",
    "\n",
    "The and Operator\n",
    "The and operator takes two Boolean expressions as operands and creates a compound\n",
    "Boolean expression that is true only when both subexpressions are true. The following is\n",
    "an example of an if statement that uses the and operator:\n",
    "\n",
    "    if temperature < 20 and minutes > 12:\n",
    "         print('The temperature is in the danger zone.')\n",
    "         \n",
    "In this statement, the two Boolean expressions `temperature < 20 and minutes > 12` are combined into a compound expression. The print function will be called only if temperature is less than 20 and minutes is greater than 12"
   ],
   "metadata": {
    "collapsed": false
   },
   "id": "d0fc4a625dddf474"
  },
  {
   "cell_type": "markdown",
   "source": [
    "## The and Operator\n",
    "The and operator takes two Boolean expressions as operands and creates a compound Boolean expression that is true only when both subexpressions are true. The following is an example of an if statement that uses the and operator:\n",
    "    \n",
    "    if temperature < 20 and minutes > 12:\n",
    "        print('The temperature is in the danger zone.')\n",
    "In this statement, the two Boolean expressions `temperature < 20 and minutes > 12` are combined into a compound expression. The print function will be called only if temperature is less than 20 and minutes is greater than 12\n",
    "\n",
    "## The or Operator\n",
    "The `or` operator takes two Boolean expressions as operands and creates a compound Boolean expression that is true when either of the subexpressions is true. The following is an example of an if statement that uses the or operator:\n",
    "\n",
    "    if temperature < 20 or temperature > 100:\n",
    "    print('The temperature is too extreme')\n",
    "    \n",
    "## The not Operator\n",
    "The not operator is a unary operator that takes a Boolean expression as its operand and\n",
    "reverses its logical value. In other words, if the expression is true, the not operator returns\n",
    "false, and if the expression is false, the not operator returns true. The following is an if\n",
    "statement using the not operator:\n",
    "\n",
    "    if not(temperature > 100):\n",
    "        print('This is below the maximum temperature.')\n",
    "First, the expression (temperature > 100) is tested and a value of either true or false is\n",
    "the result. Then the not operator is applied to that value. If the expression (temperature > 100) is true, the not operator returns false. If the expression (temperature > 100) is false, the not operator returns true. The previous code is equivalent to asking: “Is the temperature not greater than 100?”"
   ],
   "metadata": {
    "collapsed": false
   },
   "id": "598047383abbb618"
  },
  {
   "cell_type": "code",
   "execution_count": 7,
   "outputs": [],
   "source": [],
   "metadata": {
    "collapsed": false,
    "ExecuteTime": {
     "end_time": "2024-06-29T18:35:18.414544200Z",
     "start_time": "2024-06-29T18:35:18.358491800Z"
    }
   },
   "id": "7eba30aa2285c1ac"
  },
  {
   "cell_type": "code",
   "execution_count": 8,
   "outputs": [
    {
     "name": "stdout",
     "output_type": "stream",
     "text": [
      "You do not qualify for this loan.\n"
     ]
    }
   ],
   "source": [
    "# This program determines whether a bank customer\n",
    "# qualifies for a loan.\n",
    "\n",
    "MIN_SALARY = 30000.0 # The minimum annual salary\n",
    "MIN_YEARS = 2 # The minimum years on the job\n",
    "\n",
    "# Get the customer's annual salary.\n",
    "salary = float(input('Enter your annual salary: '))\n",
    "\n",
    "# Get the number of years on the current job.\n",
    "years_on_job = int(input('Enter the number of ' +'years employed: '))\n",
    "\n",
    "# Determine whether the customer qualifies.\n",
    "if salary >= MIN_SALARY and years_on_job >= MIN_YEARS:\n",
    "    print('You qualify for the loan.')\n",
    "else:\n",
    "    print('You do not qualify for this loan.')"
   ],
   "metadata": {
    "collapsed": false,
    "ExecuteTime": {
     "end_time": "2024-06-29T18:36:19.472653200Z",
     "start_time": "2024-06-29T18:36:13.957461900Z"
    }
   },
   "id": "dce8832eadd872e"
  },
  {
   "cell_type": "code",
   "execution_count": null,
   "outputs": [],
   "source": [
    "# This program determines whether a bank customer\n",
    "# qualifies for a loan.\n",
    "\n",
    "MIN_SALARY = 30000.0 # The minimum annual salary\n",
    "MIN_YEARS = 2 # The minimum years on the job\n",
    "\n",
    "# Get the customer's annual salary.\n",
    "salary = float(input('Enter your annual salary: '))\n",
    "\n",
    "# Get the number of years on the current job.\n",
    "years_on_job = int(input('Enter the number of  + years employed: '))\n",
    "# Determine whether the customer qualifies.\n",
    "if salary >= MIN_SALARY or years_on_job >= MIN_YEARS:\n",
    "    print('You qualify for the loan.')\n",
    "else:\n",
    "    print('You do not qualify for this loan.')"
   ],
   "metadata": {
    "collapsed": false
   },
   "id": "2ef562aa8a59e931"
  },
  {
   "cell_type": "markdown",
   "source": [
    "1. What is a compound Boolean expression?\n",
    "2. The following truth table shows various combinations of the values true and false\n",
    "connected by a logical operator. Complete the table by circling T or F to indicate\n",
    "whether the result of such a combination is true or false.\n",
    "\n",
    "| Logical Expression | Result (circle T or F) |\n",
    "|--------------------|-------------------------|\n",
    "| True and False     | F                       |\n",
    "| True and True      | T                       |\n",
    "| False and True     | F                       |\n",
    "| False and False    | F                       |\n",
    "| True or False      | T                       |\n",
    "| True or True       | T                       |\n",
    "| False or True      | T                       |\n",
    "| False or False     | F                       |\n",
    "| not True           | F                       |\n",
    "| not False          | T                       |\n",
    "3. Assume the variables a = 2, b = 4, and c = 6. Circle T or F for each of the following conditions to indicate whether its value is true or false.\n",
    "\n",
    "| Condition                   | Result (circle T or F) |\n",
    "|-----------------------------|-------------------------|\n",
    "| a == 4 or b > 2             | T                       |\n",
    "| 6 <= c and a > 3            | F                       |\n",
    "| 1 != b and c != 3           | F                       |\n",
    "| a >= −1 or a <= b           | T                       |\n",
    "| not (a > 2)                 | T                       |\n",
    "\n",
    "\n",
    "4. Explain how short-circuit evaluation works with the and and or operators.\n",
    "5. Write an if statement that displays the message “The number is valid” if the value referenced by speed is within the range 0 through 200.\n",
    "6. Write an if statement that displays the message “The number is not valid” if the value referenced by speed is outside the range 0 through 200."
   ],
   "metadata": {
    "collapsed": false
   },
   "id": "fedc8bbf4c8b80fa"
  },
  {
   "cell_type": "markdown",
   "source": [
    "### Programming Exercises\n",
    "1. Day of the Week\n",
    "Write a program that asks the user for a number in the range of 1 through 7. The program should display the corresponding day of the week, where 1 = Monday, 2 = Tuesday, 3 = Wednesday, 4 = Thursday, 5 = Friday, 6 = Saturday, and 7 = Sunday. The program should display an error message if the user enters a number that is outside the range of 1 through 7.\n",
    "\n",
    "2. Areas of Rectangles\n",
    "The area of a rectangle is the rectangle’s length times its width. Write a program that asks\n",
    "for the length and width of two rectangles. The program should tell the user which rectangle has the greater area, or if the areas are the same.\n",
    "\n",
    "3. Age Classifier\n",
    "Write a program that asks the user to enter a person’s age. The program should display\n",
    "a message indicating whether the person is an infant, a child, a teenager, or an adult.\n",
    "Following are the guidelines:\n",
    "- If the person is 1 year old or less, he or she is an infant.\n",
    "- If the person is older than 1 year, but younger than 13 years, he or she is a child.\n",
    "- If the person is at least 13 years old, but less than 20 years old, he or she is a teenager.\n",
    "- If the person is at least 20 years old, he or she is an adult.\n",
    "4. Roman Numerals\n",
    "Write a program that prompts the user to enter a number within the range of 1 through 10.\n",
    "The program should display the Roman numeral version of that number. If the number is\n",
    "outside the range of 1 through 10, the program should display an error message. The following table shows the Roman numerals for the numbers 1 through 10:\n",
    "\n",
    "| Number | Roman Numeral |\n",
    "|--------|---------------|\n",
    "| 1      | I             |\n",
    "| 2      | II            |\n",
    "| 3      | III           |\n",
    "| 4      | IV            |\n",
    "| 5      | V             |\n",
    "| 6      | VI            |\n",
    "| 7      | VII           |\n",
    "| 8      | VIII          |\n",
    "| 9      | IX            |\n",
    "| 10     | X             |\n",
    "\n",
    "\n",
    "\n",
    "5. Mass and Weight\n",
    "Scientists measure an object’s mass in kilograms and its weight in newtons. If you know\n",
    "the amount of mass of an object in kilograms, you can calculate its weight in newtons with\n",
    "the following formula:\n",
    " $ weight = mass \\times 9.8 $ \n",
    "\n",
    "7. Write a program that asks the user to enter an object’s mass, then calculates its weight. If\n",
    "the object weighs more than 500 newtons, display a message indicating that it is too heavy.\n",
    "If the object weighs less than 100 newtons, display a message indicating that it is too light.\n",
    "\n",
    "6. Magic Dates\n",
    "The date June 10, 1960, is special because when it is written in the following format, the\n",
    "month times the day equals the year:\n",
    "6/10/60\n",
    "Design a program that asks the user to enter a month (in numeric form), a day, and a twodigit year. The program should then determine whether the month times the day equals the\n",
    "year. If so, it should display a message saying the date is magic. Otherwise, it should display\n",
    "a message saying the date is not magic.\n",
    "7. 7. Color Mixer\n",
    "The colors red, blue, and yellow are known as the primary colors because they cannot\n",
    "be made by mixing other colors. When you mix two primary colors, you get a secondary\n",
    "color, as shown here:\n",
    "When you mix red and blue, you get purple.\n",
    "When you mix red and yellow, you get orange.\n",
    "When you mix blue and yellow, you get green.\n",
    "Design a program that prompts the user to enter the names of two primary colors to mix. If\n",
    "the user enters anything other than “red,” “blue,” or “yellow,” the program should display\n",
    "an error message. Otherwise, the program should display the name of the secondary color\n",
    "that results.\n",
    "8. Hot Dog Cookout Calculator\n",
    "Assume hot dogs come in packages of 10, and hot dog buns come in packages of 8. Write a\n",
    "program that calculates the number of packages of hot dogs and the number of packages of\n",
    "hot dog buns needed for a cookout, with the minimum amount of leftovers. The program\n",
    "should ask the user for the number of people attending the cookout and the number of hot\n",
    "dogs each person will be given. The program should display the following details:\n",
    "• The minimum number of packages of hot dogs required\n",
    "• The minimum number of packages of hot dog buns required\n",
    "• The number of hot dogs that will be left over\n",
    "• The number of hot dog buns that will be left over\n",
    "9. Roulette Wheel Colors\n",
    "On a roulette wheel, the pockets are numbered from 0 to 36. The colors of the pockets are\n",
    "as follows:\n",
    "• Pocket 0 is green.\n",
    "• For pockets 1 through 10, the odd-numbered pockets are red and the even-numbered\n",
    "pockets are black.\n",
    "• For pockets 11 through 18, the odd-numbered pockets are black and the even-numbered\n",
    "pockets are red.\n",
    "• For pockets 19 through 28, the odd-numbered pockets are red and the even-numbered\n",
    "pockets are black.\n",
    "• For pockets 29 through 36, the odd-numbered pockets are black and the even-numbered\n",
    "pockets are red.\n",
    "Write a program that asks the user to enter a pocket number and displays whether the\n",
    "pocket is green, red, or black. The program should display an error message if the user\n",
    "enters a number that is outside the range of 0 through 36.\n",
    "10. Money Counting Game\n",
    "Create a change-counting game that gets the user to enter the number of coins required\n",
    "to make exactly one dollar. The program should prompt the user to enter the number of\n",
    "pennies, nickels, dimes, and quarters. If the total value of the coins entered is equal to one\n",
    "dollar, the program should congratulate the user for winning the game. Otherwise, the\n",
    "program should display a message indicating whether the amount entered was more than\n",
    "or less than one dollar.\n",
    "11. 11. Book Club Points\n",
    "Serendipity Booksellers has a book club that awards points to its customers based on the\n",
    "number of books purchased each month. The points are awarded as follows:\n",
    "• If a customer purchases 0 books, he or she earns 0 points.\n",
    "• If a customer purchases 2 books, he or she earns 5 points.\n",
    "• If a customer purchases 4 books, he or she earns 15 points.\n",
    "• If a customer purchases 6 books, he or she earns 30 points.\n",
    "• If a customer purchases 8 or more books, he or she earns 60 points.\n",
    "Write a program that asks the user to enter the number of books that he or she has purchased this month, then displays the number of points awarded.\n",
    "12. Software Sales\n",
    "A software company sells a package that retails for $99. Quantity discounts are given\n",
    "according to the following table:\n",
    "\n",
    "| Quantity Range | Discount |\n",
    "|----------------|----------|\n",
    "| 10–19          | 10%      |\n",
    "| 20–49          | 20%      |\n",
    "| 50–99          | 30%      |\n",
    "| 100 or more    | 40%      |\n",
    "\n",
    "\n",
    "Write a program that asks the user to enter the number of packages purchased. The program should then display the amount of the discount (if any) and the total amount of the\n",
    "purchase after the discount.\n",
    "13. Shipping Charges\n",
    "The Fast Freight Shipping Company charges the following\n",
    "\n",
    "| Weight of Package                      | Rate per Pound |\n",
    "|----------------------------------------|----------------|\n",
    "| 2 pounds or less                       | $1.50          |\n",
    "| Over 2 pounds but not more than 6 pounds | $3.00          |\n",
    "| Over 6 pounds but not more than 10 pounds | $4.00          |\n",
    "| Over 10 pounds                         | $4.75          |\n",
    "\n",
    "Write a program that asks the user to enter the weight of a package then displays the shipping charges.\n",
    "14. Body Mass Index\n",
    "Write a program that calculates and displays a person’s body mass index (BMI). The BMI\n",
    "is often used to determine whether a person is overweight or underweight for his or her\n",
    "height. A person’s BMI is calculated with the following formula:\n",
    "**BMI** is calculated using the formula:\n",
    "\n",
    " $ \\text{BMI} = \\frac{\\text{weight} \\times 703}{\\text{height}^2} $\n",
    "\n",
    "Where:\n",
    "- **weight** is measured in pounds.\n",
    "- **height** is measured in inches.\n",
    "\n",
    "\n",
    "where weight is measured in pounds and height is measured in inches. The program should\n",
    "ask the user to enter his or her weight and height, then display the user’s BMI. The program should also display a message indicating whether the person has optimal weight, is\n",
    "underweight, or is overweight. A person’s weight is considered to be optimal if his or her\n",
    "\n",
    "\n",
    "BMI is between 18.5 and 25. If the BMI is less than 18.5, the person is considered to be\n",
    "underweight. If the BMI value is greater than 25, the person is considered to be overweight.\n",
    "15. Time Calculator\n",
    "Write a program that asks the user to enter a number of seconds and works as follows:\n",
    "• There are 60 seconds in a minute. If the number of seconds entered by the user is greater\n",
    "than or equal to 60, the program should convert the number of seconds to minutes and\n",
    "seconds.\n",
    "• There are 3,600 seconds in an hour. If the number of seconds entered by the user is\n",
    "greater than or equal to 3,600, the program should convert the number of seconds to\n",
    "hours, minutes, and seconds.\n",
    "• There are 86,400 seconds in a day. If the number of seconds entered by the user is\n",
    "greater than or equal to 86,400, the program should convert the number of seconds to\n",
    "days, hours, minutes, and seconds.\n",
    "16. February Days\n",
    "The month of February normally has 28 days. But if it is a leap year, February has 29 days.\n",
    "Write a program that asks the user to enter a year. The program should then display the\n",
    "number of days in February that year. Use the following criteria to identify leap years:\n",
    "1. Determine whether the year is divisible by 100. If it is, then it is a leap year if and only\n",
    "if it is also divisible by 400. For example, 2000 is a leap year, but 2100 is not.\n",
    "2. If the year is not divisible by 100, then it is a leap year if and only if it is divisible by 4.\n",
    "For example, 2008 is a leap year, but 2009 is not.\n",
    "\n",
    "Here is a sample run of the program:\n",
    "Enter a year: 2008 Enter\n",
    "In 2008 February has 29 days.\n",
    "17. Wi-Fi Diagnostic Tree\n",
    "Figure 3-19 shows a simplified flowchart for troubleshooting a bad Wi-Fi connection. Use\n",
    "the flowchart to create a program that leads a person through the steps of fixing a bad\n",
    "Wi-Fi connection. Here is an example of the program’s output:\n",
    "Reboot the computer and try to connect.\n",
    "Did that fix the problem? no Enter\n",
    "Reboot the router and try to connect.\n",
    "Did that fix the problem? yes Enter\n",
    "Notice the program ends as soon as a solution is found to the problem. Here is another\n",
    "example of the program’s output:\n",
    "Reboot the computer and try to connect.\n",
    "Did that fix the problem? no Enter\n",
    "Reboot the router and try to connect.\n",
    "Did that fix the problem? no Enter\n",
    "Make sure the cables between the router and modem are plugged in firmly.\n",
    "Did that fix the problem? no Enter\n",
    "Move the router to a new location.\n",
    "Did that fix the problem? no Enter\n",
    "Get a new router."
   ],
   "metadata": {
    "collapsed": false
   },
   "id": "236975f154e47a7b"
  },
  {
   "cell_type": "code",
   "execution_count": null,
   "outputs": [],
   "source": [],
   "metadata": {
    "collapsed": false
   },
   "id": "f8f6ce642ef936fb"
  }
 ],
 "metadata": {
  "kernelspec": {
   "display_name": "Python 3",
   "language": "python",
   "name": "python3"
  },
  "language_info": {
   "codemirror_mode": {
    "name": "ipython",
    "version": 2
   },
   "file_extension": ".py",
   "mimetype": "text/x-python",
   "name": "python",
   "nbconvert_exporter": "python",
   "pygments_lexer": "ipython2",
   "version": "2.7.6"
  }
 },
 "nbformat": 4,
 "nbformat_minor": 5
}
